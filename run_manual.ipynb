{
 "cells": [
  {
   "cell_type": "code",
   "execution_count": 3,
   "metadata": {},
   "outputs": [],
   "source": [
    "from app.functions import search_parameter_fast\n",
    "from app.main2 import matching_images\n",
    "from dotenv import load_dotenv\n",
    "from app.s3 import S3\n",
    "import json\n",
    "import os \n",
    "\n",
    "with open(\"data/json/brads.json\", \"r\", encoding=\"utf-8\") as file:\n",
    "    brands = json.load(file)\n",
    "\n",
    "load_dotenv(\".env\")\n",
    "s3 = S3(os.environ.get(\"AWS_BUCKET_NAME\"))"
   ]
  },
  {
   "cell_type": "code",
   "execution_count": 10,
   "metadata": {},
   "outputs": [],
   "source": [
    "response = {\n",
    "    \"bucket\": \"hydrahi4ai\",\n",
    "\n",
    "    \"path_origin_file\": \"ajio-myntra/origin/20240112/New_collector_20240112_172137.success.json\",\n",
    "    \"path_alternative_file\": \"ajio-myntra/alternative/20240110/Myntra__Marianfer_Cruz_20240111_095149.success.json\",\n",
    "\n",
    "    \"path_origin_img\": \"ajio-myntra/origin/20240112/\",\n",
    "    \"path_alternative_img\": \"ajio-myntra/alternative/20240110/\",\n",
    "\n",
    "    \"path_report\": \"ajio-myntra/reports/matchin_ajio_myntra_1.json\",\n",
    "\n",
    "    \"img_per_object\": 1,\n",
    "    \n",
    "    \"setting\": {\n",
    "        \"origin_file_name_imgs\": \"product_images\",\n",
    "        \"alternative_file_name_imgs\": \"product_images\",\n",
    "        \n",
    "        \"ref_origin\": \"sku\",\n",
    "        \"ref_alternative\": \"sku\",\n",
    "        \n",
    "        \"origin_search_parameter\": {\n",
    "            \"brand\": \"\"\n",
    "        },\n",
    "        \"alternative_search_parameter\": {\n",
    "            \"brand\": \"\"\n",
    "        }\n",
    "    }\n",
    "}\n",
    "\n",
    "response_copy = response.copy()"
   ]
  },
  {
   "cell_type": "code",
   "execution_count": 8,
   "metadata": {},
   "outputs": [],
   "source": [
    "# si da error usa este comando\n",
    "import shutil\n",
    "import os\n",
    "for name in [\"fastdup\", \"img\", \"reports\", \"s3\", \"db\"]:\n",
    "    path = f\"trash/{name}\"\n",
    "    shutil.rmtree(path)\n",
    "    os.makedirs(path)"
   ]
  },
  {
   "cell_type": "code",
   "execution_count": null,
   "metadata": {},
   "outputs": [],
   "source": [
    "for obj in brands:\n",
    "\n",
    "    ajio_brand = obj[\"ajio_brand\"]\n",
    "    myntra_brand = obj[\"myntra_brand\"]\n",
    "\n",
    "    response[\"setting\"][\"origin_search_parameter\"][\"brand\"] = ajio_brand\n",
    "    response[\"setting\"][\"alternative_search_parameter\"][\"brand\"] = myntra_brand\n",
    "\n",
    "    response[\"path_report\"] = f\"ajio-myntra/reports/matchin_ajio_myntra_brand_{ajio_brand}.json\"\n",
    "\n",
    "    exist, _ = s3.valid_file(response[\"path_report\"])\n",
    "\n",
    "    # si el archivo no existe corremos el analisis, caso contrario lo saltamos\n",
    "    if not exist:\n",
    "\n",
    "        matching_images(response)\n",
    "        response = response_copy\n"
   ]
  },
  {
   "cell_type": "code",
   "execution_count": 10,
   "metadata": {},
   "outputs": [
    {
     "name": "stdout",
     "output_type": "stream",
     "text": [
      "No se encontro en valor 'Caritochi' en la columna 'brand' por lo tanto no se va a buscar.\n",
      "Ninguno de los parámetros proporcionados se encuentran en el df.\n",
      "No se encontro en valor 'caritochi' en la columna 'brand' por lo tanto no se va a buscar.\n",
      "Ninguno de los parámetros proporcionados se encuentran en el df.\n",
      "error con los inputs\n"
     ]
    }
   ],
   "source": [
    "response = {\n",
    "    \"bucket\": \"hydrahi4ai\",\n",
    "\n",
    "    \"path_origin_file\": \"ajio-myntra/origin/20231214/New_collector_20231214_154733.success.json\",\n",
    "    \"path_alternative_file\": \"ajio-myntra/alternative/20231213/Myntra__Marianfer_Cruz_20231213_143830.success.json\",\n",
    "\n",
    "    \"path_origin_img\": \"ajio-myntra/origin/20231214\",\n",
    "    \"path_alternative_img\": \"ajio-myntra/alternative/20231213/\",\n",
    "\n",
    "    \"path_report\": \"ajio-myntra/test.json\",\n",
    "\n",
    "    \"img_per_object\": 1,\n",
    "    \n",
    "    \"setting\": {\n",
    "        \"origin_file_name_imgs\": \"product_images\",\n",
    "        \"alternative_file_name_imgs\": \"product_images\",\n",
    "        \n",
    "        \"ref_origin\": \"sku\",\n",
    "        \"ref_alternative\": \"sku\",\n",
    "        \n",
    "        \"origin_search_parameter\": {\n",
    "            \"brand\": \"Caritochi\"\n",
    "        },\n",
    "        \"alternative_search_parameter\": {\n",
    "            \"brand\": \"caritochi\"\n",
    "        }\n",
    "    }\n",
    "}\n",
    "\n",
    "is_valid = []\n",
    "\n",
    "parameters = [response[\"setting\"][\"origin_search_parameter\"], response[\"setting\"][\"alternative_search_parameter\"]]\n",
    "\n",
    "for i, path_s3 in enumerate([response[\"path_origin_file\"], response[\"path_alternative_file\"]]):\n",
    "    path_file = s3.download_file(\"trash/s3/\", path_s3)\n",
    "    is_valid.append(search_parameter_fast(path_file, parameters[i]))\n",
    "    os.remove(path_file)\n",
    "\n",
    "\n",
    "if all(is_valid):\n",
    "    matching_images(response)\n",
    "else:\n",
    "    print(\"error con los inputs\")"
   ]
  }
 ],
 "metadata": {
  "kernelspec": {
   "display_name": ".venv",
   "language": "python",
   "name": "python3"
  },
  "language_info": {
   "codemirror_mode": {
    "name": "ipython",
    "version": 3
   },
   "file_extension": ".py",
   "mimetype": "text/x-python",
   "name": "python",
   "nbconvert_exporter": "python",
   "pygments_lexer": "ipython3",
   "version": "3.9.5"
  }
 },
 "nbformat": 4,
 "nbformat_minor": 2
}
