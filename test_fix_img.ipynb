{
 "cells": [
  {
   "cell_type": "code",
   "execution_count": 4,
   "metadata": {},
   "outputs": [],
   "source": [
    "# imports\n",
    "import imageio.v2 as imageio\n",
    "from PIL import Image\n",
    "from app import S3\n",
    "import fastdup\n",
    "import os\n",
    "\n",
    "bucket: str = \"hydrahi4ai\"\n",
    "s3_img_path: str = \"s3://hydrahi4ai/ajio-myntra/alternative/20231219/\"\n",
    "local_img_path: str = \"trash/fastdup/tmp/\" + s3_img_path.split(bucket)[-1]\n",
    "s3 = S3(bucket)"
   ]
  },
  {
   "cell_type": "code",
   "execution_count": null,
   "metadata": {},
   "outputs": [],
   "source": [
    "fd = fastdup.create(\"trash/fastdup/\")\n",
    "\n",
    "# analisamos las imagenes del s3 para detectar las images dañadas y tomamos una que este bien para usarla como muestra\n",
    "fd.run(s3_img_path, threshold= 0.5, overwrite= True, high_accuracy= True)\n",
    "\n",
    "# Obtenemos los similarity\n",
    "similarity = fd.similarity()"
   ]
  },
  {
   "cell_type": "code",
   "execution_count": null,
   "metadata": {},
   "outputs": [],
   "source": [
    "# lista de los archivos dañados, para descargarlos\n",
    "invalid_img_s3: list = fd.invalid_instances()[\"filename\"].to_list()\n",
    "invalid_img_local: list = [f\"{local_img_path}{s3_path.split('/')[-1]}\" for s3_path in invalid_img_s3]"
   ]
  },
  {
   "cell_type": "code",
   "execution_count": null,
   "metadata": {},
   "outputs": [],
   "source": [
    "for local_file in invalid_img_local:\n",
    "    \n",
    "    try:\n",
    "        imagen = imageio.imread(local_file)\n",
    "        \n",
    "        # Agregar metadata\n",
    "        metadata = {\n",
    "            'jfif': 257,\n",
    "            'jfif_version': (1, 1),\n",
    "        }\n",
    "\n",
    "        # re-escribimos la imagen con la metadata agregada\n",
    "        imageio.imwrite(local_file, imagen, **metadata)\n",
    "        \n",
    "    except ValueError as e:\n",
    "        print(e)"
   ]
  },
  {
   "cell_type": "code",
   "execution_count": null,
   "metadata": {},
   "outputs": [],
   "source": [
    "# No ejecutar  esta celda hasta que estes seguro de que la data esta bien\n",
    "\n",
    "# subimos los archivos acomodados al S3 \n",
    "\n",
    "# for local_file in invalid_img_local:\n",
    "    \n",
    "#     s3.update(\n",
    "#         s3_img_path,\n",
    "#         local_file\n",
    "#     )\n"
   ]
  }
 ],
 "metadata": {
  "kernelspec": {
   "display_name": ".venv",
   "language": "python",
   "name": "python3"
  },
  "language_info": {
   "codemirror_mode": {
    "name": "ipython",
    "version": 3
   },
   "file_extension": ".py",
   "mimetype": "text/x-python",
   "name": "python",
   "nbconvert_exporter": "python",
   "pygments_lexer": "ipython3",
   "version": "3.9.2"
  }
 },
 "nbformat": 4,
 "nbformat_minor": 2
}
