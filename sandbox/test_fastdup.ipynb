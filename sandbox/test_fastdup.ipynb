{
 "cells": [
  {
   "cell_type": "code",
   "execution_count": null,
   "metadata": {},
   "outputs": [],
   "source": [
    "import fastdup \n",
    "import pandas as pd\n",
    "import os"
   ]
  },
  {
   "cell_type": "code",
   "execution_count": null,
   "metadata": {},
   "outputs": [],
   "source": [
    "input_dir: str = \"s3://hydrahi4ai/ajio-myntra/origin/20231214/\"\n",
    "# input_dir: str = \"../data/images\"\n",
    "work_dir: str = \"trash/test/\"\n",
    "\n",
    "if not os.path.exists(work_dir):\n",
    "    os.makedirs(work_dir)\n",
    "\n",
    "fd = fastdup.create(work_dir)\n",
    "fd.run( input_dir, threshold= 0.5, overwrite= True, high_accuracy=True)\n",
    "similarity = fd.similarity()"
   ]
  },
  {
   "cell_type": "code",
   "execution_count": null,
   "metadata": {},
   "outputs": [],
   "source": [
    "similarity"
   ]
  },
  {
   "cell_type": "code",
   "execution_count": null,
   "metadata": {},
   "outputs": [],
   "source": [
    "# input_dir: str = \"s3://hydrahi4ai/ajio-myntra/alternative/20231219/\"\n",
    "input_dir: str = \"trash/fastdup/tmp/ajio-myntra/origin/20231214\"\n",
    "work_dir: str = \"trash/test/\"\n",
    "\n",
    "\n",
    "fd = fastdup.create(work_dir)\n",
    "fd.run( input_dir, threshold= 0.5, overwrite= True, high_accuracy=True)\n",
    "similarity = fd.similarity()"
   ]
  },
  {
   "cell_type": "code",
   "execution_count": null,
   "metadata": {},
   "outputs": [],
   "source": [
    "similarity"
   ]
  }
 ],
 "metadata": {
  "kernelspec": {
   "display_name": ".venv",
   "language": "python",
   "name": "python3"
  },
  "language_info": {
   "codemirror_mode": {
    "name": "ipython",
    "version": 3
   },
   "file_extension": ".py",
   "mimetype": "text/x-python",
   "name": "python",
   "nbconvert_exporter": "python",
   "pygments_lexer": "ipython3",
   "version": "3.9.2"
  }
 },
 "nbformat": 4,
 "nbformat_minor": 2
}
