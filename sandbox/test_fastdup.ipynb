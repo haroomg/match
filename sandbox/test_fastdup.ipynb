{
 "cells": [
  {
   "cell_type": "code",
   "execution_count": 1,
   "metadata": {},
   "outputs": [
    {
     "name": "stderr",
     "output_type": "stream",
     "text": [
      "/home/lharo/programing/projects/matching/.venv/lib/python3.10/site-packages/tqdm/auto.py:21: TqdmWarning: IProgress not found. Please update jupyter and ipywidgets. See https://ipywidgets.readthedocs.io/en/stable/user_install.html\n",
      "  from .autonotebook import tqdm as notebook_tqdm\n"
     ]
    }
   ],
   "source": [
    "import fastdup \n",
    "import pandas as pd\n",
    "import os"
   ]
  },
  {
   "cell_type": "code",
   "execution_count": 3,
   "metadata": {},
   "outputs": [
    {
     "name": "stdout",
     "output_type": "stream",
     "text": [
      "FastDup Software, (C) copyright 2022 Dr. Amir Alush and Dr. Danny Bickson.\n",
      "2024-01-03 11:24:49 [INFO] Going to loop over dir ../data/images\n",
      "2024-01-03 11:24:49 [INFO] Found total 6 images to run on, 6 train, 0 test, name list 6, counter 6 \n",
      "2024-01-03 11:24:50 [INFO] Found total 6 images to run on Estimated: 0 Minutes\n",
      "Finished histogram 0.010\n",
      "Finished bucket sort 0.020\n",
      "2024-01-03 11:24:50 [INFO] 0) Finished write_index() NN model\n",
      "2024-01-03 11:24:50 [INFO] Stored nn model index file ../trash/fastdup/nnf.index\n",
      "2024-01-03 11:24:50 [INFO] Total time took 1003 ms\n",
      "2024-01-03 11:24:50 [INFO] Found a total of 0 fully identical images (d>0.990), which are 0.00 % of total graph edges\n",
      "2024-01-03 11:24:50 [INFO] Found a total of 0 nearly identical images(d>0.980), which are 0.00 % of total graph edges\n",
      "2024-01-03 11:24:50 [INFO] Found a total of 10 above threshold images (d>0.500), which are 83.33 % of total graph edges\n",
      "2024-01-03 11:24:50 [INFO] Found a total of 1 outlier images         (d<0.050), which are 8.33 % of total graph edges\n",
      "2024-01-03 11:24:50 [INFO] Min distance found 0.264 max distance 0.926\n",
      "2024-01-03 11:24:50 [INFO] Running connected components for ccthreshold 0.960000 \n",
      ".0\n",
      " ########################################################################################\n",
      "\n",
      "Dataset Analysis Summary: \n",
      "\n",
      "    Dataset contains 6 images\n",
      "    Valid images are 100.00% (6) of the data, invalid are 0.00% (0) of the data\n",
      "    Components:  failed to find images clustered into components, try to run with lower cc_threshold.\n",
      "    Outliers: 16.67% (1) of images are possible outliers, and fall in the bottom 5.00% of similarity values.\n",
      "    For a detailed list of outliers, use `.outliers()`.\n",
      "\n",
      "########################################################################################\n",
      "Would you like to see awesome visualizations for some of the most popular academic datasets?\n",
      "Click here to see and learn more: https://app.visual-layer.com/vl-datasets?utm_source=fastdup\n",
      "########################################################################################\n"
     ]
    },
    {
     "name": "stderr",
     "output_type": "stream",
     "text": [
      "/home/lharo/programing/projects/matching/.venv/lib/python3.10/site-packages/fastdup/fastdup_controller.py:430: UserWarning: No connected components found, try using a lower threshold\n",
      "  warnings.warn(f'No connected components found, try using a lower threshold')\n"
     ]
    }
   ],
   "source": [
    "# input_dir: str = \"s3://hydrahi4ai/ajio-myntra/alternative/20231219/\"\n",
    "input_dir: str = \"../data/images\"\n",
    "work_dir: str = \"../trash/fastdup/\"\n",
    "\n",
    "fd = fastdup.create(work_dir)\n",
    "fd.run( input_dir, threshold= 0.5, overwrite= True, high_accuracy=True)\n",
    "similarity = fd.similarity()"
   ]
  },
  {
   "cell_type": "code",
   "execution_count": null,
   "metadata": {},
   "outputs": [],
   "source": [
    "similarity"
   ]
  }
 ],
 "metadata": {
  "kernelspec": {
   "display_name": ".venv",
   "language": "python",
   "name": "python3"
  },
  "language_info": {
   "codemirror_mode": {
    "name": "ipython",
    "version": 3
   },
   "file_extension": ".py",
   "mimetype": "text/x-python",
   "name": "python",
   "nbconvert_exporter": "python",
   "pygments_lexer": "ipython3",
   "version": "3.10.2"
  }
 },
 "nbformat": 4,
 "nbformat_minor": 2
}
