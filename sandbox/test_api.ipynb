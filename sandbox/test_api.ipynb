{
 "cells": [
  {
   "cell_type": "code",
   "execution_count": null,
   "metadata": {},
   "outputs": [],
   "source": [
    "from typing import Union, Literal\n",
    "from dotenv  import load_dotenv\n",
    "from fastapi import FastAPI, HTTPException\n",
    "import pandas as pd\n",
    "import boto3\n",
    "import os\n",
    "\n",
    "app = FastAPI()\n",
    "\n",
    "load_dotenv(\"../.env\")\n",
    "aws_access_key_id: str = os.environ.get(\"AWS_ACCESS_KEY_ID\")\n",
    "aws_secret_access_key: str = os.environ.get(\"AWS_SECRET_ACCESS_KEY\")\n",
    "aws_bucket_name: str = os.environ.get(\"AWS_BUCKET_NAME\")\n",
    "\n",
    "prefix: str = \"ajio-myntra\"\n",
    "\n",
    "# Crea una instancia del cliente de S3\n",
    "s3 = boto3.client(\n",
    "    's3',\n",
    "    aws_access_key_id = aws_access_key_id,\n",
    "    aws_secret_access_key = aws_secret_access_key,\n",
    ")"
   ]
  },
  {
   "cell_type": "code",
   "execution_count": null,
   "metadata": {},
   "outputs": [],
   "source": [
    "@app.get(\"/matching_images\")\n",
    "def matchin_images(\n",
    "    bucket: str = None, # nombre del bucket\n",
    "    \n",
    "    path_origin_file: str = None, # dirección donde se encuentra el json del scrapeo\n",
    "    path_alternative_file: str = None, # dirección donde se encuentra el json del scrapeo\n",
    "    \n",
    "    how_get_img: Literal[\"download\", \"s3\"] = \"s3\", # como obtenemos las imágenes, si es desde el s3 o descargándolas manualmente\n",
    "    img_per_object: Union[int, None] = None, # cantidad de imágenes que vamos a tomar de cada objeto,  para comparar\n",
    "    \n",
    "    path_origin_img: str = None, # dirección donde se encuentra las imágenes o el nombre de la llave que contiene las url\n",
    "    path_alternative_img: str = None, # dirección donde se encuentra las imágenes o el nombre de la llave que contiene las url\n",
    "    ) -> dict:\n",
    "    \n",
    "    # validamos que el bucket exista\n",
    "    buckets: list = [bucket[\"Name\"] for bucket in s3.list_buckets()[\"Buckets\"]]\n",
    "    \n",
    "    if bucket not in buckets:\n",
    "        raise HTTPException(status_code=404, detail=f\"El nombre del Bucket {bucket} esta mal escrito o no existe.\")"
   ]
  },
  {
   "cell_type": "code",
   "execution_count": null,
   "metadata": {},
   "outputs": [],
   "source": [
    "print(matchin_images(bucket=\"hydrahiai\"))"
   ]
  }
 ],
 "metadata": {
  "kernelspec": {
   "display_name": ".venv",
   "language": "python",
   "name": "python3"
  },
  "language_info": {
   "codemirror_mode": {
    "name": "ipython",
    "version": 3
   },
   "file_extension": ".py",
   "mimetype": "text/x-python",
   "name": "python",
   "nbconvert_exporter": "python",
   "pygments_lexer": "ipython3",
   "version": "3.10.2"
  }
 },
 "nbformat": 4,
 "nbformat_minor": 2
}
