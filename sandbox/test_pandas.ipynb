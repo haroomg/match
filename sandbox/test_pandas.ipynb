{
 "cells": [
  {
   "cell_type": "code",
   "execution_count": 3,
   "metadata": {},
   "outputs": [],
   "source": [
    "import pandas as pd\n",
    "import fastdup\n",
    "import shutil\n",
    "import os \n",
    "\n",
    "\n",
    "def search_parameter(df: pd.DataFrame = None, parameter: dict = None) -> pd.DataFrame:\n",
    "    \n",
    "    if not len(parameter):\n",
    "        return df\n",
    "    \n",
    "    df_columns = df.columns\n",
    "    \n",
    "    # validamos que el parametro este en el df, en caso de que no lo quitamos\n",
    "    for key in parameter.copy():\n",
    "        if key not in df_columns:\n",
    "            \n",
    "            print(f\"{key} no se encuentra en el df.\")\n",
    "            del parameter[key]\n",
    "    \n",
    "    if not len(parameter):\n",
    "        print(\"Ninguno de los parámetros proporcionados se encuentran en el df por lo tanto lo retornamos como estaba.\")\n",
    "        return df\n",
    "    \n",
    "    # validamos los valores de busqueda\n",
    "    for key,value in parameter.copy().items():\n",
    "        \n",
    "        if isinstance(value, (str, int, float, bool)):\n",
    "            \n",
    "            search = df[ df[key] == value]\n",
    "            if not len(search):\n",
    "                print(f\"No se encontro en valor '{value}' en la columna '{key}' por lo tanto no se va a buscar.\")\n",
    "                del parameter[key]\n",
    "        \n",
    "        elif isinstance(value, list):\n",
    "            \n",
    "            search = df[df[key].isin(value)]\n",
    "            if not len(search):\n",
    "                print(f\"No se encontro los valores '{value}' en la columna '{key}' por lo tanto no se va a buscar.\")\n",
    "                del parameter[key]\n",
    "        \n",
    "        elif isinstance(value, dict):\n",
    "            print(f\"No se aceptan parametros de tipo {type(value).__name__}\")\n",
    "            del parameter[key]\n",
    "    \n",
    "    if not len(parameter):\n",
    "        print(\"Ninguno de los parámetros proporcionados se encuentran en el df por lo tanto lo retornamos como estaba.\")\n",
    "        return df\n",
    "    \n",
    "    # si todo sale bien empezamos a realizar las busquedas en el df\n",
    "    df_copy = df\n",
    "    \n",
    "    for key, value in parameter.items():\n",
    "        \n",
    "        if isinstance(value, (str, int, float, bool)):\n",
    "            \n",
    "            df_copy = df_copy[ df_copy[key] == value]\n",
    "        \n",
    "        elif isinstance(value, list):\n",
    "            \n",
    "            df_copy = df_copy[df_copy[key].isin(value)]\n",
    "    \n",
    "    # retornamos el df filtrado\n",
    "    return df_copy\n",
    "\n",
    "\n",
    "# df = pd.read_json(\"../data/json/Myntra__Marianfer_Cruz_20231219_195028.success.json\")\n",
    "# print(len(df))\n",
    "# parameter = {\n",
    "#     \"color\": [\"White\", \"Brown\"],\n",
    "#     \"brand\": \"BUCIK\",\n",
    "# }\n",
    "\n",
    "# df = search_parameter(df, parameter)\n",
    "# print(len(df))"
   ]
  },
  {
   "cell_type": "code",
   "execution_count": 2,
   "metadata": {},
   "outputs": [],
   "source": [
    "def delete_directory_content(directory: str = None) -> str:\n",
    "    \n",
    "    try:\n",
    "        \n",
    "        for archivo in os.listdir(directory):\n",
    "            \n",
    "            ruta_completa = os.path.join(directory, archivo)\n",
    "            \n",
    "            if os.path.isfile(ruta_completa):\n",
    "                os.remove(ruta_completa)\n",
    "            elif os.path.isdir(ruta_completa):\n",
    "                shutil.rmtree(ruta_completa)\n",
    "                \n",
    "        print(f\"El contenido del directory '{directory}' ha sido eliminado correctamente.\")\n",
    "        \n",
    "        return directory\n",
    "        \n",
    "    except FileNotFoundError:\n",
    "        print(f\"El directory '{directory}' no existe.\")\n",
    "        \n",
    "    except Exception as e:\n",
    "        print(f\"Se produjo un error al eliminar el contenido del directory '{directory}': {str(e)}\")"
   ]
  },
  {
   "cell_type": "code",
   "execution_count": 5,
   "metadata": {},
   "outputs": [
    {
     "name": "stdout",
     "output_type": "stream",
     "text": [
      "El contenido del directory '../trash/fastdup' ha sido eliminado correctamente.\n"
     ]
    },
    {
     "data": {
      "text/plain": [
       "'../trash/fastdup'"
      ]
     },
     "execution_count": 5,
     "metadata": {},
     "output_type": "execute_result"
    }
   ],
   "source": [
    "delete_directory_content(\"../trash/fastdup\")"
   ]
  }
 ],
 "metadata": {
  "kernelspec": {
   "display_name": ".venv",
   "language": "python",
   "name": "python3"
  },
  "language_info": {
   "codemirror_mode": {
    "name": "ipython",
    "version": 3
   },
   "file_extension": ".py",
   "mimetype": "text/x-python",
   "name": "python",
   "nbconvert_exporter": "python",
   "pygments_lexer": "ipython3",
   "version": "3.9.2"
  },
  "orig_nbformat": 4
 },
 "nbformat": 4,
 "nbformat_minor": 2
}
