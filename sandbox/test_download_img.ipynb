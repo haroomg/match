{
 "cells": [
  {
   "cell_type": "code",
   "execution_count": null,
   "metadata": {},
   "outputs": [],
   "source": [
    "import requests\n",
    "import os\n",
    "\n",
    "def download_image(url, save_path):\n",
    "    try:\n",
    "        response = requests.get(url, stream=True)\n",
    "        response.raise_for_status()\n",
    "\n",
    "        with open(save_path, 'wb') as file:\n",
    "            for chunk in response.iter_content(chunk_size=8192):\n",
    "                file.write(chunk)\n",
    "\n",
    "        print(f\"La imagen se ha descargado y guardado en: {save_path}\")\n",
    "        \n",
    "    except requests.exceptions.RequestException as e:\n",
    "        print(f\"No se pudo descargar la imagen: {e}\")"
   ]
  },
  {
   "cell_type": "code",
   "execution_count": null,
   "metadata": {},
   "outputs": [],
   "source": [
    "# Ejemplo de uso\n",
    "image_url = [\n",
    "    \"https://assets.myntassets.com/h_720,q_90,w_540/v1/assets/images/19840254/2022/9/7/a7b40185-d070-4cbb-9674-8fec7a2463e11662563738014BUCIKMenOliveGreenBrownLeatherComfortSandals1.jpg\",\n",
    "    \"https://assets.myntassets.com/h_720,q_90,w_540/v1/assets/images/19840254/2022/9/7/0ae72c81-d01e-4673-a133-f21f3165bdc01662563738025BUCIKMenOliveGreenBrownLeatherComfortSandals2.jpg\",\n",
    "    \"https://assets.myntassets.com/h_720,q_90,w_540/v1/assets/images/19840254/2022/9/7/bb84dfcf-f1fd-4bdb-bb45-4b9c82ce79d91662563737987BUCIKMenOliveGreenBrownLeatherComfortSandals3.jpg\",\n",
    "    \"https://assets.myntassets.com/h_720,q_90,w_540/v1/assets/images/19840254/2022/9/7/fb4c9293-96c9-4ef8-90f6-a48f8b153adc1662563737995BUCIKMenOliveGreenBrownLeatherComfortSandals4.jpg\"\n",
    "    ]\n",
    "save_directory = \"../data/images\"\n",
    "image_filename = 'image{}.jpg'\n",
    "\n",
    "for i, url in enumerate(image_url):\n",
    "\n",
    "    # Combina el directorio y el nombre del archivo\n",
    "    save_path = os.path.join(save_directory, image_filename.format(i))\n",
    "\n",
    "    # Descarga la imagen\n",
    "    download_image(url, save_path)"
   ]
  }
 ],
 "metadata": {
  "kernelspec": {
   "display_name": ".venv",
   "language": "python",
   "name": "python3"
  },
  "language_info": {
   "codemirror_mode": {
    "name": "ipython",
    "version": 3
   },
   "file_extension": ".py",
   "mimetype": "text/x-python",
   "name": "python",
   "nbconvert_exporter": "python",
   "pygments_lexer": "ipython3",
   "version": "3.10.2"
  }
 },
 "nbformat": 4,
 "nbformat_minor": 2
}
