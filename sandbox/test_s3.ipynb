{
 "cells": [
  {
   "cell_type": "code",
   "execution_count": 6,
   "metadata": {},
   "outputs": [],
   "source": [
    "from dotenv  import load_dotenv\n",
    "import boto3\n",
    "import os\n",
    "import pandas as pd\n",
    "\n",
    "load_dotenv(\"../.env\")\n",
    "aws_access_key_id: str = os.environ.get(\"AWS_ACCESS_KEY_ID\")\n",
    "aws_secret_access_key: str = os.environ.get(\"AWS_SECRET_ACCESS_KEY\")\n",
    "aws_bucket_name: str = os.environ.get(\"AWS_BUCKET_NAME\")\n",
    "\n",
    "prefix: str = \"ajio-myntra\"\n",
    "\n",
    "# Crea una instancia del cliente de S3\n",
    "s3 = boto3.client(\n",
    "    's3',\n",
    "    aws_access_key_id = aws_access_key_id,\n",
    "    aws_secret_access_key = aws_secret_access_key,\n",
    ")"
   ]
  },
  {
   "cell_type": "code",
   "execution_count": null,
   "metadata": {},
   "outputs": [],
   "source": [
    "# list all buckets\n",
    "buckets = [bucket[\"Name\"] for bucket in s3.list_buckets()[\"Buckets\"]]"
   ]
  },
  {
   "cell_type": "code",
   "execution_count": null,
   "metadata": {},
   "outputs": [],
   "source": [
    "# list all objects in a bucket \n",
    "response = s3.list_objects_v2(Bucket=aws_bucket_name, Prefix=prefix)\n",
    "\n",
    "if 'Contents' in response:\n",
    "    objects = response['Contents']\n",
    "    for obj in objects:\n",
    "        print(obj['Key'])\n",
    "else:\n",
    "    print('No se encontraron objetos en el bucket.')"
   ]
  },
  {
   "cell_type": "code",
   "execution_count": null,
   "metadata": {},
   "outputs": [],
   "source": [
    "# download json\n",
    "path_json_s3: str = \"ajio-myntra/alternative/20231213/Myntra__Marianfer_Cruz_20231213_143830.success.json\"\n",
    "local_json_path: str = \"../data/json/Myntra__Marianfer_Cruz_20231213_143830.success.json\"\n",
    "\n",
    "if not os.path.exists(local_json_path):\n",
    "\n",
    "    s3.download_file(\n",
    "        aws_bucket_name, \n",
    "        path_json_s3,\n",
    "        local_json_path\n",
    "        )\n",
    "else:\n",
    "    print(\"El archivo ya existe.\")"
   ]
  },
  {
   "cell_type": "code",
   "execution_count": null,
   "metadata": {},
   "outputs": [],
   "source": [
    "# donwload images\n",
    "path_img_s3: str = \"ajio-myntra/alternative/20231213/j_lq3uhp5g14myh50mul.fda76d907cf88f51174e77caf77803459ef3174f.file_lq3v0p90103owhbiyl.[_].jpg\"\n",
    "local_img_path: str = \"../data/images/test2.jpg\"\n",
    "\n",
    "if not os.path.exists(local_img_path):\n",
    "\n",
    "    s3.download_file(\n",
    "        aws_bucket_name, \n",
    "        path_img_s3,\n",
    "        local_img_path\n",
    "        )\n",
    "else:\n",
    "    print(\"El archivo ya existe\")"
   ]
  },
  {
   "cell_type": "code",
   "execution_count": 23,
   "metadata": {},
   "outputs": [
    {
     "name": "stdout",
     "output_type": "stream",
     "text": [
      "False\n"
     ]
    }
   ],
   "source": [
    "# validar rutas \n",
    "route = \"ajio-myntra/origin/20231214/New_collector_20231214_154733.success.json\"\n",
    "response = s3.list_objects_v2(Bucket=aws_bucket_name, Prefix=route)\n",
    "\n",
    "if \"Contents\" in response:\n",
    "    print(True)\n",
    "else:\n",
    "    print(False)"
   ]
  },
  {
   "cell_type": "code",
   "execution_count": 21,
   "metadata": {},
   "outputs": [
    {
     "ename": "ClientError",
     "evalue": "An error occurred (404) when calling the HeadObject operation: Not Found",
     "output_type": "error",
     "traceback": [
      "\u001b[0;31m---------------------------------------------------------------------------\u001b[0m",
      "\u001b[0;31mClientError\u001b[0m                               Traceback (most recent call last)",
      "Cell \u001b[0;32mIn[21], line 3\u001b[0m\n\u001b[1;32m      1\u001b[0m \u001b[39m# validar objetos \u001b[39;00m\n\u001b[1;32m      2\u001b[0m path \u001b[39m=\u001b[39m \u001b[39m\"\u001b[39m\u001b[39m/ajio-myntra/origin/20231214/New_collector_20231214_154733.success.json\u001b[39m\u001b[39m\"\u001b[39m, \u001b[39m\"\u001b[39m\u001b[39majio-myntra/alternative/Myntra__Marianfer_Cruz_20231213_130659.json\u001b[39m\u001b[39m\"\u001b[39m\n\u001b[0;32m----> 3\u001b[0m s3\u001b[39m.\u001b[39;49mhead_object(Bucket\u001b[39m=\u001b[39;49maws_bucket_name, Key\u001b[39m=\u001b[39;49mpath[\u001b[39m1\u001b[39;49m])\n",
      "File \u001b[0;32m~/programin/match/.venv/lib/python3.9/site-packages/botocore/client.py:553\u001b[0m, in \u001b[0;36mClientCreator._create_api_method.<locals>._api_call\u001b[0;34m(self, *args, **kwargs)\u001b[0m\n\u001b[1;32m    549\u001b[0m     \u001b[39mraise\u001b[39;00m \u001b[39mTypeError\u001b[39;00m(\n\u001b[1;32m    550\u001b[0m         \u001b[39mf\u001b[39m\u001b[39m\"\u001b[39m\u001b[39m{\u001b[39;00mpy_operation_name\u001b[39m}\u001b[39;00m\u001b[39m() only accepts keyword arguments.\u001b[39m\u001b[39m\"\u001b[39m\n\u001b[1;32m    551\u001b[0m     )\n\u001b[1;32m    552\u001b[0m \u001b[39m# The \"self\" in this scope is referring to the BaseClient.\u001b[39;00m\n\u001b[0;32m--> 553\u001b[0m \u001b[39mreturn\u001b[39;00m \u001b[39mself\u001b[39;49m\u001b[39m.\u001b[39;49m_make_api_call(operation_name, kwargs)\n",
      "File \u001b[0;32m~/programin/match/.venv/lib/python3.9/site-packages/botocore/client.py:1009\u001b[0m, in \u001b[0;36mBaseClient._make_api_call\u001b[0;34m(self, operation_name, api_params)\u001b[0m\n\u001b[1;32m   1005\u001b[0m     error_code \u001b[39m=\u001b[39m error_info\u001b[39m.\u001b[39mget(\u001b[39m\"\u001b[39m\u001b[39mQueryErrorCode\u001b[39m\u001b[39m\"\u001b[39m) \u001b[39mor\u001b[39;00m error_info\u001b[39m.\u001b[39mget(\n\u001b[1;32m   1006\u001b[0m         \u001b[39m\"\u001b[39m\u001b[39mCode\u001b[39m\u001b[39m\"\u001b[39m\n\u001b[1;32m   1007\u001b[0m     )\n\u001b[1;32m   1008\u001b[0m     error_class \u001b[39m=\u001b[39m \u001b[39mself\u001b[39m\u001b[39m.\u001b[39mexceptions\u001b[39m.\u001b[39mfrom_code(error_code)\n\u001b[0;32m-> 1009\u001b[0m     \u001b[39mraise\u001b[39;00m error_class(parsed_response, operation_name)\n\u001b[1;32m   1010\u001b[0m \u001b[39melse\u001b[39;00m:\n\u001b[1;32m   1011\u001b[0m     \u001b[39mreturn\u001b[39;00m parsed_response\n",
      "\u001b[0;31mClientError\u001b[0m: An error occurred (404) when calling the HeadObject operation: Not Found"
     ]
    }
   ],
   "source": [
    "# validar objetos \n",
    "path = \"/ajio-myntra/origin/20231214/New_collector_20231214_154733.success.json\", \"ajio-myntra/alternative/Myntra__Marianfer_Cruz_20231213_130659.json\"\n",
    "s3.head_object(Bucket=aws_bucket_name, Key=path[1])"
   ]
  }
 ],
 "metadata": {
  "kernelspec": {
   "display_name": ".venv",
   "language": "python",
   "name": "python3"
  },
  "language_info": {
   "codemirror_mode": {
    "name": "ipython",
    "version": 3
   },
   "file_extension": ".py",
   "mimetype": "text/x-python",
   "name": "python",
   "nbconvert_exporter": "python",
   "pygments_lexer": "ipython3",
   "version": "3.9.2"
  }
 },
 "nbformat": 4,
 "nbformat_minor": 2
}
