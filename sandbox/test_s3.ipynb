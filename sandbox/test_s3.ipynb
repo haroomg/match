{
 "cells": [
  {
   "cell_type": "code",
   "execution_count": 1,
   "metadata": {},
   "outputs": [],
   "source": [
    "from dotenv  import load_dotenv\n",
    "import boto3\n",
    "import os\n",
    "\n",
    "load_dotenv(\"../.env\")\n",
    "aws_access_key_id: str = os.environ.get(\"AWS_ACCESS_KEY_ID\")\n",
    "aws_secret_access_key: str = os.environ.get(\"AWS_SECRET_ACCESS_KEY\")\n",
    "aws_bucket_name: str = os.environ.get(\"AWS_BUCKET_NAME\")\n",
    "\n",
    "prefix: str = \"ajio-myntra\"\n",
    "\n",
    "# Crea una instancia del cliente de S3\n",
    "s3 = boto3.client(\n",
    "    's3',\n",
    "    aws_access_key_id = aws_access_key_id,\n",
    "    aws_secret_access_key = aws_secret_access_key,\n",
    ")"
   ]
  },
  {
   "cell_type": "code",
   "execution_count": 3,
   "metadata": {},
   "outputs": [],
   "source": [
    "# list all buckets\n",
    "buckets = [bucket[\"Name\"] for bucket in s3.list_buckets()[\"Buckets\"]]"
   ]
  },
  {
   "cell_type": "code",
   "execution_count": null,
   "metadata": {},
   "outputs": [],
   "source": [
    "# list all objects in a bucket \n",
    "response = s3.list_objects_v2(Bucket=aws_bucket_name, Prefix=prefix)\n",
    "\n",
    "if 'Contents' in response:\n",
    "    objects = response['Contents']\n",
    "    for obj in objects:\n",
    "        print(obj['Key'])\n",
    "else:\n",
    "    print('No se encontraron objetos en el bucket.')"
   ]
  },
  {
   "cell_type": "code",
   "execution_count": 7,
   "metadata": {},
   "outputs": [],
   "source": [
    "# download json\n",
    "path_json_s3: str = \"ajio-myntra/alternative/20231213/Myntra__Marianfer_Cruz_20231213_143830.success.json\"\n",
    "local_json_path: str = \"../data/json/Myntra__Marianfer_Cruz_20231213_143830.json\"\n",
    "\n",
    "if not os.path.exists(local_json_path):\n",
    "\n",
    "    s3.download_file(\n",
    "        aws_bucket_name, \n",
    "        path_json_s3,\n",
    "        local_json_path\n",
    "        )\n",
    "else:\n",
    "    print(\"El archivo ya existe.\")"
   ]
  },
  {
   "cell_type": "code",
   "execution_count": 13,
   "metadata": {},
   "outputs": [],
   "source": [
    "# donwload images\n",
    "path_img_s3: str = \"ajio-myntra/alternative/20231213/j_lq3uhp5g14myh50mul.01b16cd797aa03133280b2ae81d1e90de467c067.file_lq3v0lxr6c47s24gl.[_].webp\"\n",
    "local_img_path: str = \"../data/images/file_lq3v0lxr6c47s24gl.[_].jpg\"\n",
    "\n",
    "if not os.path.exists(local_img_path):\n",
    "\n",
    "    s3.download_file(\n",
    "        aws_bucket_name, \n",
    "        path_img_s3,\n",
    "        local_img_path\n",
    "        )\n",
    "else:\n",
    "    print(\"El archivo ya existe\")"
   ]
  }
 ],
 "metadata": {
  "kernelspec": {
   "display_name": ".venv",
   "language": "python",
   "name": "python3"
  },
  "language_info": {
   "codemirror_mode": {
    "name": "ipython",
    "version": 3
   },
   "file_extension": ".py",
   "mimetype": "text/x-python",
   "name": "python",
   "nbconvert_exporter": "python",
   "pygments_lexer": "ipython3",
   "version": "3.10.2"
  }
 },
 "nbformat": 4,
 "nbformat_minor": 2
}
