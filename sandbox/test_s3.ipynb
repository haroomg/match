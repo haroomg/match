{
 "cells": [
  {
   "cell_type": "code",
   "execution_count": 2,
   "metadata": {},
   "outputs": [
    {
     "ename": "AttributeError",
     "evalue": "'S3' object has no attribute 'bucket'",
     "output_type": "error",
     "traceback": [
      "\u001b[0;31m---------------------------------------------------------------------------\u001b[0m",
      "\u001b[0;31mAttributeError\u001b[0m                            Traceback (most recent call last)",
      "Cell \u001b[0;32mIn[2], line 20\u001b[0m\n\u001b[1;32m     13\u001b[0m \u001b[38;5;66;03m# Crea una instancia del cliente de S3\u001b[39;00m\n\u001b[1;32m     14\u001b[0m s3 \u001b[38;5;241m=\u001b[39m boto3\u001b[38;5;241m.\u001b[39mclient(\n\u001b[1;32m     15\u001b[0m     \u001b[38;5;124m'\u001b[39m\u001b[38;5;124ms3\u001b[39m\u001b[38;5;124m'\u001b[39m,\n\u001b[1;32m     16\u001b[0m     aws_access_key_id \u001b[38;5;241m=\u001b[39m aws_access_key_id,\n\u001b[1;32m     17\u001b[0m     aws_secret_access_key \u001b[38;5;241m=\u001b[39m aws_secret_access_key,\n\u001b[1;32m     18\u001b[0m )\n\u001b[0;32m---> 20\u001b[0m bucket \u001b[38;5;241m=\u001b[39m \u001b[43ms3\u001b[49m\u001b[38;5;241;43m.\u001b[39;49m\u001b[43mbucket\u001b[49m(\u001b[38;5;124m\"\u001b[39m\u001b[38;5;124maws_bucket_name\u001b[39m\u001b[38;5;124m\"\u001b[39m)\n",
      "File \u001b[0;32m~/programing/projects/matching/.venv/lib/python3.10/site-packages/botocore/client.py:906\u001b[0m, in \u001b[0;36mBaseClient.__getattr__\u001b[0;34m(self, item)\u001b[0m\n\u001b[1;32m    903\u001b[0m \u001b[38;5;28;01mif\u001b[39;00m event_response \u001b[38;5;129;01mis\u001b[39;00m \u001b[38;5;129;01mnot\u001b[39;00m \u001b[38;5;28;01mNone\u001b[39;00m:\n\u001b[1;32m    904\u001b[0m     \u001b[38;5;28;01mreturn\u001b[39;00m event_response\n\u001b[0;32m--> 906\u001b[0m \u001b[38;5;28;01mraise\u001b[39;00m \u001b[38;5;167;01mAttributeError\u001b[39;00m(\n\u001b[1;32m    907\u001b[0m     \u001b[38;5;124mf\u001b[39m\u001b[38;5;124m\"\u001b[39m\u001b[38;5;124m'\u001b[39m\u001b[38;5;132;01m{\u001b[39;00m\u001b[38;5;28mself\u001b[39m\u001b[38;5;241m.\u001b[39m\u001b[38;5;18m__class__\u001b[39m\u001b[38;5;241m.\u001b[39m\u001b[38;5;18m__name__\u001b[39m\u001b[38;5;132;01m}\u001b[39;00m\u001b[38;5;124m'\u001b[39m\u001b[38;5;124m object has no attribute \u001b[39m\u001b[38;5;124m'\u001b[39m\u001b[38;5;132;01m{\u001b[39;00mitem\u001b[38;5;132;01m}\u001b[39;00m\u001b[38;5;124m'\u001b[39m\u001b[38;5;124m\"\u001b[39m\n\u001b[1;32m    908\u001b[0m )\n",
      "\u001b[0;31mAttributeError\u001b[0m: 'S3' object has no attribute 'bucket'"
     ]
    }
   ],
   "source": [
    "from dotenv  import load_dotenv\n",
    "import boto3\n",
    "import os\n",
    "import pandas as pd\n",
    "\n",
    "load_dotenv(\"../.env\")\n",
    "aws_access_key_id: str = os.environ.get(\"AWS_ACCESS_KEY_ID\")\n",
    "aws_secret_access_key: str = os.environ.get(\"AWS_SECRET_ACCESS_KEY\")\n",
    "aws_bucket_name: str = os.environ.get(\"AWS_BUCKET_NAME\")\n",
    "\n",
    "prefix: str = \"ajio-myntra\"\n",
    "\n",
    "# Crea una instancia del cliente de S3\n",
    "s3 = boto3.client(\n",
    "    's3',\n",
    "    aws_access_key_id = aws_access_key_id,\n",
    "    aws_secret_access_key = aws_secret_access_key,\n",
    ")"
   ]
  },
  {
   "cell_type": "code",
   "execution_count": null,
   "metadata": {},
   "outputs": [],
   "source": [
    "# list all buckets\n",
    "buckets = [bucket[\"Name\"] for bucket in s3.list_buckets()[\"Buckets\"]]"
   ]
  },
  {
   "cell_type": "code",
   "execution_count": null,
   "metadata": {},
   "outputs": [],
   "source": [
    "# list all objects in a bucket \n",
    "response = s3.list_objects_v2(Bucket=aws_bucket_name, Prefix=prefix)\n",
    "\n",
    "if 'Contents' in response:\n",
    "    objects = response['Contents']\n",
    "    for obj in objects:\n",
    "        print(obj['Key'])\n",
    "else:\n",
    "    print('No se encontraron objetos en el bucket.')"
   ]
  },
  {
   "cell_type": "code",
   "execution_count": 4,
   "metadata": {},
   "outputs": [],
   "source": [
    "# download json\n",
    "path_json_s3: str = \"ajio-myntra/alternative/20231213/Myntra__Marianfer_Cruz_20231213_143830.success.json\"\n",
    "local_json_path: str = \"../data/json/Myntra__Marianfer_Cruz_20231213_143830.success.json\"\n",
    "\n",
    "if not os.path.exists(local_json_path):\n",
    "\n",
    "    s3.download_file(\n",
    "        aws_bucket_name, \n",
    "        path_json_s3,\n",
    "        local_json_path\n",
    "        )\n",
    "else:\n",
    "    print(\"El archivo ya existe.\")"
   ]
  },
  {
   "cell_type": "code",
   "execution_count": null,
   "metadata": {},
   "outputs": [],
   "source": [
    "# donwload images\n",
    "path_img_s3: str = \"ajio-myntra/alternative/20231213/j_lq3uhp5g14myh50mul.fda76d907cf88f51174e77caf77803459ef3174f.file_lq3v0p90103owhbiyl.[_].jpg\"\n",
    "local_img_path: str = \"../data/images/test2.jpg\"\n",
    "\n",
    "if not os.path.exists(local_img_path):\n",
    "\n",
    "    s3.download_file(\n",
    "        aws_bucket_name, \n",
    "        path_img_s3,\n",
    "        local_img_path\n",
    "        )\n",
    "else:\n",
    "    print(\"El archivo ya existe\")"
   ]
  },
  {
   "cell_type": "code",
   "execution_count": null,
   "metadata": {},
   "outputs": [],
   "source": [
    "# borrar una carpeta\n",
    "\n"
   ]
  },
  {
   "cell_type": "code",
   "execution_count": null,
   "metadata": {},
   "outputs": [],
   "source": [
    "# validar rutas \n",
    "path = \"/hydrahi4ai/ajio-myntra/alternative/20231213/\".replace(aws_bucket_name, \"\")\n",
    "s3.list_objects_v2(Bucket=aws_bucket_name, Prefix=\"ajio-myntra/alternative/20231213/\")"
   ]
  },
  {
   "cell_type": "code",
   "execution_count": null,
   "metadata": {},
   "outputs": [],
   "source": [
    "# validar objetos \n",
    "path = \"ajio-myntra/origin/20231214/New_collector_20231214_154733.success.json\", \"ajio-myntra/alternative/Myntra__Marianfer_Cruz_20231213_130659.json\"\n",
    "s3.head_object(Bucket=aws_bucket_name, Key=path[1])"
   ]
  }
 ],
 "metadata": {
  "kernelspec": {
   "display_name": ".venv",
   "language": "python",
   "name": "python3"
  },
  "language_info": {
   "codemirror_mode": {
    "name": "ipython",
    "version": 3
   },
   "file_extension": ".py",
   "mimetype": "text/x-python",
   "name": "python",
   "nbconvert_exporter": "python",
   "pygments_lexer": "ipython3",
   "version": "3.10.2"
  }
 },
 "nbformat": 4,
 "nbformat_minor": 2
}
