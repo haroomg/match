{
 "cells": [
  {
   "cell_type": "code",
   "execution_count": null,
   "metadata": {},
   "outputs": [],
   "source": [
    "# imports\n",
    "import imageio.v2 as imageio\n",
    "from PIL import Image\n",
    "from app import S3\n",
    "import datetime\n",
    "import fastdup\n",
    "import os\n",
    "import pprint as pp\n",
    "\n",
    "bucket: str = \"hydrahi4ai\"\n",
    "s3_img_path: str = \"trash/fastdup/address_files_s3.txt\"\n",
    "local_img_path: str = \"trash/fastdup/tmp/\" + s3_img_path.split(bucket)[-1]\n",
    "s3 = S3(bucket)"
   ]
  },
  {
   "cell_type": "code",
   "execution_count": null,
   "metadata": {},
   "outputs": [],
   "source": [
    "def add_metadata(img_path: str = None, metadata: dict = None) -> str:\n",
    "    \n",
    "    if not os.path.exists(img_path):\n",
    "        print(img_path)\n",
    "        raise ValueError(\"La Dirección proporcionada no existe o esta mal escrita.\")\n",
    "    \n",
    "    if not metadata:\n",
    "        # Si el usario no define una metadata, nosotros agregamos\n",
    "        metadata = {\n",
    "            \"msm\": \"Esta imagen no contenia Metadata\",\n",
    "            \"repair_day\": datetime.date.today()\n",
    "        }\n",
    "    elif not isinstance(metadata, dict):\n",
    "        raise ValueError(f\"El atributo de Metadata debe ser de tipo dict, no de tipo {type(metadata).__name__}\")\n",
    "    \n",
    "    try:\n",
    "        file_name = os.path.basename(img_path)\n",
    "        \n",
    "        image = imageio.imread(img_path)\n",
    "        \n",
    "        # re-escribimos la imagen con la metadata agregada\n",
    "        imageio.imwrite(img_path, image, **metadata)\n",
    "        print(f\"Se acaba de agregar la metadata en el archivo {file_name}\")\n",
    "        \n",
    "    except TypeError as e:\n",
    "        print(e)\n",
    "        \n",
    "    finally:\n",
    "        return img_path"
   ]
  },
  {
   "cell_type": "code",
   "execution_count": null,
   "metadata": {},
   "outputs": [],
   "source": [
    "fd = fastdup.create(\"trash/test/\")\n",
    "\n",
    "# analisamos las imagenes del s3 para detectar las images dañadas y tomamos una que este bien para usarla como muestra\n",
    "fd.run(s3_img_path, threshold= 0.5, overwrite= True, high_accuracy= True)\n",
    "\n",
    "# Obtenemos los similarity\n",
    "similarity = fd.similarity()"
   ]
  },
  {
   "cell_type": "code",
   "execution_count": null,
   "metadata": {},
   "outputs": [],
   "source": [
    "invalid_img = [os.path.join(\"trash/fastdup/tmp/\", path.replace(\"s3://hydrahi4ai/\", \"\")) for path in fd.invalid_instances()[\"filename\"].to_list()]\n",
    "test_path = set([\"/\".join(path.split(\"/\")[:-1]) for path in invalid_img])"
   ]
  },
  {
   "cell_type": "code",
   "execution_count": null,
   "metadata": {},
   "outputs": [],
   "source": [
    "similarity.head(1)"
   ]
  },
  {
   "cell_type": "code",
   "execution_count": null,
   "metadata": {},
   "outputs": [],
   "source": [
    "# lista de los archivos dañados, para descargarlos\n",
    "for path in invalid_img:\n",
    "    add_metadata(path)"
   ]
  },
  {
   "cell_type": "code",
   "execution_count": null,
   "metadata": {},
   "outputs": [],
   "source": [
    "fd.run(\"trash/fastdup/tmp/ajio-myntra/alternative/20231219/\", threshold= 0.5, overwrite= True, high_accuracy= True)"
   ]
  }
 ],
 "metadata": {
  "kernelspec": {
   "display_name": ".venv",
   "language": "python",
   "name": "python3"
  },
  "language_info": {
   "codemirror_mode": {
    "name": "ipython",
    "version": 3
   },
   "file_extension": ".py",
   "mimetype": "text/x-python",
   "name": "python",
   "nbconvert_exporter": "python",
   "pygments_lexer": "ipython3",
   "version": "3.9.2"
  }
 },
 "nbformat": 4,
 "nbformat_minor": 2
}
