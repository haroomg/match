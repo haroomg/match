{
 "cells": [
  {
   "cell_type": "code",
   "execution_count": null,
   "metadata": {},
   "outputs": [],
   "source": [
    "import ijson\n",
    "import sqlite3\n",
    "from app.s3 import S3\n",
    "import os \n",
    "import shutil\n",
    "\n",
    "s3 = S3(\"hydrahi4ai\")"
   ]
  },
  {
   "cell_type": "code",
   "execution_count": null,
   "metadata": {},
   "outputs": [],
   "source": [
    "# s3 data path\n",
    "json_path =  [\"data/json/New_collector_20231214_154733.success.json\",\"data/json/Myntra__Marianfer_Cruz_20231219_195028.success.json\"]\n",
    "# s3 img path\n",
    "s3_img_path = [\"ajio-myntra/origin/20231214/\", \"ajio-myntra/alternative/20231219/\"]\n",
    "\n",
    "# filename db and images\n",
    "db_name = \"trash/db/db_filename.sqlite\"\n",
    "filename_images = \"trash/fastdup/path_images.txt\"\n",
    "\n",
    "path_images = \"trash/img\"\n",
    "\n",
    "table_name = [\"origin\", \"alternative\"]\n",
    "\n",
    "query_table = \"CREATE TABLE IF NOT EXISTS {0} (file_name VARCHAR(1024), ref VARCHAR(256))\"\n",
    "query_insert = \"INSERT INTO {0} (file_name, ref) VALUES (?, ?)\"\n",
    "\n",
    "field_name_file_images = [\"product_images\", \"product_images\"]\n",
    "field_name_ref = [\"sku\", \"sku\"]\n",
    "\n",
    "img_per_object = 1"
   ]
  },
  {
   "cell_type": "code",
   "execution_count": null,
   "metadata": {},
   "outputs": [],
   "source": [
    "# creamos la db \n",
    "with sqlite3.connect(db_name) as con:\n",
    "    \n",
    "    # creamos el archivo donde vamos a guardar la direccion de las imagenes \n",
    "    with open(filename_images, \"w\", encoding=\"utf-8\") as file:\n",
    "\n",
    "        for i, path in enumerate(json_path):\n",
    "            \n",
    "            with open(path, \"r\", encoding=\"utf-8\") as json:\n",
    "                \n",
    "                con.execute(query_table.format(table_name[i]))\n",
    "                objets_json = ijson.items(json, \"item\")\n",
    "                \n",
    "                for obj in objets_json:\n",
    "                    \n",
    "                    images_name = obj[field_name_file_images[i]]\n",
    "                    ref = obj[field_name_ref[i]]\n",
    "                    amount = img_per_object if len(images_name) >= img_per_object else len(images_name)\n",
    "                    \n",
    "                    for image in images_name[:amount]:\n",
    "                        \n",
    "                        if image:\n",
    "                        \n",
    "                            path_s3_img = os.path.join(s3_img_path[i], image)\n",
    "                            con.execute(query_insert.format(table_name[i]), (image, ref))\n",
    "                            print(path_s3_img)\n",
    "                            path_local_img = s3.download_file(path_images, path_s3_img)\n",
    "                            file.write(path_local_img+\"\\n\")\n",
    "        \n",
    "        con.commit()\n"
   ]
  }
 ],
 "metadata": {
  "kernelspec": {
   "display_name": ".venv",
   "language": "python",
   "name": "python3"
  },
  "language_info": {
   "codemirror_mode": {
    "name": "ipython",
    "version": 3
   },
   "file_extension": ".py",
   "mimetype": "text/x-python",
   "name": "python",
   "nbconvert_exporter": "python",
   "pygments_lexer": "ipython3",
   "version": "3.10.2"
  }
 },
 "nbformat": 4,
 "nbformat_minor": 2
}
